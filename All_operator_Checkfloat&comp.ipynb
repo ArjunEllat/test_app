{
 "cells": [
  {
   "cell_type": "code",
   "execution_count": 15,
   "id": "c82a432d",
   "metadata": {},
   "outputs": [
    {
     "name": "stdout",
     "output_type": "stream",
     "text": [
      "The arithmentic operations for float are:-\n",
      "add:\n",
      "12.4\n",
      "subtract:\n",
      "-1.4000000000000004\n",
      "multiply:\n",
      "37.95\n",
      "divide:\n",
      "0.7971014492753623\n",
      "floor division:\n",
      "0.0\n",
      "exponent:\n",
      "128381.53306911257\n",
      "modulo:\n",
      "5.5\n",
      "\n",
      "The arithmentic operations for complex numbers are:-\n",
      "add:\n",
      "(5+8j)\n",
      "subtract:\n",
      "(1+2j)\n",
      "divide:\n",
      "(1.6153846153846154+0.07692307692307686j)\n",
      "multiply:\n",
      "(-9+19j)\n",
      "exponent:\n",
      "(0.7458604800657693+1.3534036517218795j)\n"
     ]
    }
   ],
   "source": [
    "#Arithmetic operator\n",
    "f=5.5+6.9\n",
    "f1=5.5-6.9\n",
    "f2=5.5*6.9\n",
    "f3=5.5/6.9\n",
    "f4=5.5//6.9\n",
    "f5=5.5**6.9\n",
    "f6=5.5%6.9\n",
    "print(\"The arithmentic operations for float are:-\")\n",
    "print(\"add:\",f, \"subtract:\",f1,\"multiply:\", f2,\"divide:\", f3,\"floor division:\", f4,\"exponent:\", f5,\"modulus:\", f6, sep='\\n')\n",
    "print()#to add a space between two outputs\n",
    "c=(3+5j)+(2+3j)\n",
    "c1=(3+5j)-(2+3j)\n",
    "c2=(3+5j)/(2+3j)\n",
    "#c3=(3+5j)//(2+3j)(TypeError: unsupported operand type(s) for //: 'complex' and 'complex')\n",
    "c4=(3+5j)*(2+3j)\n",
    "c5=(3+5j)**(2+3j)\n",
    "#c6=(3+5j)%(2+3j)(TypeError: unsupported operand type(s) for %: 'complex' and 'complex')\n",
    "print(\"The arithmentic operations for complex numbers are:-\")\n",
    "\n",
    "print(\"add:\",c,\"subtract:\",c1,\"divide:\",c2,\"multiply:\",c4,\"exponent:\",c5,sep='\\n')"
   ]
  },
  {
   "cell_type": "code",
   "execution_count": 39,
   "id": "49485e6b",
   "metadata": {},
   "outputs": [
    {
     "name": "stdout",
     "output_type": "stream",
     "text": [
      "for float the results with comparison operators are:-\n",
      "equal to value is: True\n",
      "less than value is: False\n",
      "greater than value is: False\n",
      "not equals value is: False\n",
      "less than or equals value is: True\n",
      "greater than or equals value is: True\n",
      "\n",
      "for complex the results with comparison operators are:-\n",
      "equal to value is: False\n",
      "not equals value is: True\n"
     ]
    }
   ],
   "source": [
    "#Comparison Operator\n",
    "a=3.0\n",
    "b=3.0\n",
    "print(\"for float the results with comparison operators are:-\")\n",
    "print(\"equal to value is:\",a==b)\n",
    "print(\"less than value is:\",a<b)\n",
    "print(\"greater than value is:\",a>b)\n",
    "print(\"not equals value is:\",a!=b)\n",
    "print(\"less than or equals value is:\",a<=b)\n",
    "print(\"greater than or equals value is:\",a>=b)\n",
    "print()\n",
    "\n",
    "z=3+5j\n",
    "k=3+6j\n",
    "print(\"for complex the results with comparison operators are:-\")\n",
    "print(\"equal to value is:\",z==k)\n",
    "#print(\"less than value is:\",z<k){TypeError: '>=' not supported between instances of 'complex' and 'complex'}\n",
    "#print(\"greater than value is:\",z>k){like above it will throw a type error because of complex part}\n",
    "print(\"not equals value is:\",z!=k)\n",
    "#print(\"less than or equals value is:\",z<=k){like above it will throw a type error because of complex part}\n",
    "#print(\"greater than or equals value is:\",z>=k) {like above it will throw a type error because of complex part}"
   ]
  },
  {
   "cell_type": "code",
   "execution_count": 48,
   "id": "bab6ec4c",
   "metadata": {},
   "outputs": [
    {
     "name": "stdout",
     "output_type": "stream",
     "text": [
      "for float:\n",
      "20.0\n",
      "10.0\n",
      "for complex:\n",
      "(3+6j)\n",
      "(3+5j)\n"
     ]
    }
   ],
   "source": [
    "#Logical Operator\n",
    "a=10.0 and 20.0\n",
    "b=10.0 or 20.0\n",
    "c=3+5j and 3+6j\n",
    "d=3+5j or 3+6j\n",
    "print(\"for float:\",a,b,\"for complex:\",c,d,sep='\\n')"
   ]
  },
  {
   "cell_type": "code",
   "execution_count": 65,
   "id": "27abc7da",
   "metadata": {},
   "outputs": [
    {
     "name": "stdout",
     "output_type": "stream",
     "text": [
      "These are results for assignment operator for float:-\n",
      "After adding 2.0: 7.0\n",
      "After subtracting 1.0: 6.0\n",
      "After multiplying by 3.0: 18.0\n",
      "After dividing by 2.0: 9.0\n",
      "\n",
      "These are results for assignment operator for complex:-\n",
      "After adding 2.0: (7+6j)\n",
      "After subtracting 1.0: (6+4j)\n",
      "After multiplying by 3.0: (6+30j)\n",
      "After dividing by 2.0: (9+6j)\n"
     ]
    }
   ],
   "source": [
    "#assignment operator\n",
    "a = 5.0\n",
    "result = a\n",
    "print(\"These are results for assignment operator for float:-\")\n",
    "result += 2.0\n",
    "print(\"After adding 2.0:\", result)\n",
    "\n",
    "result -= 1.0\n",
    "print(\"After subtracting 1.0:\", result)\n",
    "\n",
    "result *= 3.0\n",
    "print(\"After multiplying by 3.0:\", result)\n",
    "\n",
    "result /= 2.0\n",
    "print(\"After dividing by 2.0:\", result)\n",
    "print()\n",
    "a = 5+3j\n",
    "result = a\n",
    "print(\"These are results for assignment operator for complex:-\")\n",
    "result += 2+3j\n",
    "print(\"After adding 2.0:\", result)\n",
    "\n",
    "result -= 1+2j\n",
    "print(\"After subtracting 1.0:\", result)\n",
    "\n",
    "result *= 3+3j\n",
    "print(\"After multiplying by 3.0:\", result)\n",
    "\n",
    "result /= 2+2j\n",
    "print(\"After dividing by 2.0:\", result)\n"
   ]
  },
  {
   "cell_type": "code",
   "execution_count": 76,
   "id": "ef458f6f",
   "metadata": {},
   "outputs": [
    {
     "name": "stdout",
     "output_type": "stream",
     "text": [
      "True True\n",
      "True True\n"
     ]
    },
    {
     "name": "stderr",
     "output_type": "stream",
     "text": [
      "<>:2: SyntaxWarning: \"is\" with a literal. Did you mean \"==\"?\n",
      "<>:3: SyntaxWarning: \"is not\" with a literal. Did you mean \"!=\"?\n",
      "<>:6: SyntaxWarning: \"is\" with a literal. Did you mean \"==\"?\n",
      "<>:7: SyntaxWarning: \"is not\" with a literal. Did you mean \"!=\"?\n",
      "<>:2: SyntaxWarning: \"is\" with a literal. Did you mean \"==\"?\n",
      "<>:3: SyntaxWarning: \"is not\" with a literal. Did you mean \"!=\"?\n",
      "<>:6: SyntaxWarning: \"is\" with a literal. Did you mean \"==\"?\n",
      "<>:7: SyntaxWarning: \"is not\" with a literal. Did you mean \"!=\"?\n",
      "C:\\Users\\arju1\\AppData\\Local\\Temp\\ipykernel_7420\\280706791.py:2: SyntaxWarning: \"is\" with a literal. Did you mean \"==\"?\n",
      "  p=4.0 is 4.0\n",
      "C:\\Users\\arju1\\AppData\\Local\\Temp\\ipykernel_7420\\280706791.py:3: SyntaxWarning: \"is not\" with a literal. Did you mean \"!=\"?\n",
      "  n=5.0 is not 6.0\n",
      "C:\\Users\\arju1\\AppData\\Local\\Temp\\ipykernel_7420\\280706791.py:6: SyntaxWarning: \"is\" with a literal. Did you mean \"==\"?\n",
      "  o=3+4j is 3+4j\n",
      "C:\\Users\\arju1\\AppData\\Local\\Temp\\ipykernel_7420\\280706791.py:7: SyntaxWarning: \"is not\" with a literal. Did you mean \"!=\"?\n",
      "  l=3+8j is not 3+9j\n"
     ]
    }
   ],
   "source": [
    "#Is and Is not operator\n",
    "p=4.0 is 4.0\n",
    "n=5.0 is not 6.0\n",
    "print(p,n)\n",
    "\n",
    "o=3+4j is 3+4j\n",
    "l=3+8j is not 3+9j\n",
    "print(o,l)"
   ]
  },
  {
   "cell_type": "code",
   "execution_count": 84,
   "id": "d4f91e44",
   "metadata": {},
   "outputs": [
    {
     "name": "stdout",
     "output_type": "stream",
     "text": [
      "Bitwise operator is not possible in float\n",
      "Bitwise operator is not possible in complex\n"
     ]
    }
   ],
   "source": [
    "#bitwise operator\n",
    "#a=3.0 & 4.0\n",
    "#b=3.0 | 4.0\n",
    "#c=3.0 << 4.0\n",
    "#d=3.0 >> 4.0\n",
    "#print(a,b,c,d)\n",
    "print(\"Bitwise operator is not possible in float\")\n",
    "\n",
    "#a=3+4j & 4+2j\n",
    "#b=3+4j  |  4+2j\n",
    "#c=3+4j  <<  4+2j\n",
    "#d=3+4j >>  4+2j\n",
    "#print(a,b,c,d)\n",
    "print(\"Bitwise operator is not possible in complex\")\n"
   ]
  },
  {
   "cell_type": "code",
   "execution_count": null,
   "id": "5ebfce3e",
   "metadata": {},
   "outputs": [],
   "source": []
  }
 ],
 "metadata": {
  "kernelspec": {
   "display_name": "Python 3 (ipykernel)",
   "language": "python",
   "name": "python3"
  },
  "language_info": {
   "codemirror_mode": {
    "name": "ipython",
    "version": 3
   },
   "file_extension": ".py",
   "mimetype": "text/x-python",
   "name": "python",
   "nbconvert_exporter": "python",
   "pygments_lexer": "ipython3",
   "version": "3.11.5"
  }
 },
 "nbformat": 4,
 "nbformat_minor": 5
}
