{
 "cells": [
  {
   "cell_type": "markdown",
   "id": "a844d1f0",
   "metadata": {},
   "source": [
    "### Q1) Declare an complex value and store it in a variable.Check the type and print the id of the same."
   ]
  },
  {
   "cell_type": "code",
   "execution_count": 3,
   "id": "7171a2d2",
   "metadata": {},
   "outputs": [
    {
     "name": "stdout",
     "output_type": "stream",
     "text": [
      "the type of a is: <class 'complex'>\n",
      "the id of a is: 2615884775312\n"
     ]
    }
   ],
   "source": [
    "a=6+3j\n",
    "print(\"the type of a is:\",type(a))# For Checking the type \n",
    "print(\"the id of a is:\",id(a))# For checking the id"
   ]
  },
  {
   "cell_type": "markdown",
   "id": "031fd7aa",
   "metadata": {},
   "source": [
    "### Q2) Arithmetic Operations on Complex number\n",
    "### Take two different integer values.Store them in two different variables.Do below operations on them:-\n",
    "1. Find sum of both numbers\n",
    "2. Find difference between them\n",
    "3. Find the product of both numbers.\n",
    "4. Find value after dividing first num with second number\n",
    "5. Find the remainder after dividing first number with second number\n",
    "6. Find the quotient after dividing first number with second number\n",
    "7. Find the result of the first num to the power of the second number."
   ]
  },
  {
   "cell_type": "code",
   "execution_count": 5,
   "id": "5edb3394",
   "metadata": {},
   "outputs": [
    {
     "name": "stdout",
     "output_type": "stream",
     "text": [
      "Sum of both numbers is: (15+5j)\n",
      "\n",
      "Difference between them is: (5+1j)\n",
      "\n",
      "Product of both numbers is: (44+35j)\n",
      "\n",
      "Value after dividing first number with second number is: (1.9310344827586206-0.1724137931034483j)\n",
      "\n",
      "Result of the first num to the power of the second number: (68622.54152581679-9289.528832889186j)\n"
     ]
    }
   ],
   "source": [
    "a=10+3j\n",
    "b=5+2j\n",
    "print(\"Sum of both numbers is:\",a+b)\n",
    "print()\n",
    "print(\"Difference between them is:\",a-b)\n",
    "print()\n",
    "print(\"Product of both numbers is:\",a*b)\n",
    "print()\n",
    "print(\"Value after dividing first number with second number is:\",a/b)\n",
    "print()\n",
    "print(\"Result of the first num to the power of the second number:\",a**b)"
   ]
  },
  {
   "cell_type": "markdown",
   "id": "64b419f2",
   "metadata": {},
   "source": [
    "### Q3) Comparison Operation not applicable between instance of complex values.Object reusability concept is not applicable on complex number"
   ]
  },
  {
   "cell_type": "code",
   "execution_count": 7,
   "id": "4a77ceb2",
   "metadata": {},
   "outputs": [],
   "source": [
    "# a=10+3j\n",
    "# b=5+2j\n",
    "# print(\"greater than value is:\",a>b,type(a>b),sep='--->')\n",
    "# print()\n",
    "# print(\"less than value is:\",a<b,type(a<b),sep='--->')\n",
    "# print()\n",
    "# print(\"greater than or equals value is:\",a>=b,type(a>=b),sep='--->')\n",
    "# print()\n",
    "# print(\"less than or equals value is:\",a<=b,type(a<=b),sep='--->')\n",
    "#it will throw a type error because complex numbers are unordered.Real numbers 1<2 can be established but for complex number with a real and imaginary part the comparison is not possible."
   ]
  },
  {
   "cell_type": "markdown",
   "id": "00b17ea3",
   "metadata": {},
   "source": [
    "## Q4) Equality Operator\n",
    "### Take two different complex values.Store them in two different variables.\n",
    "1. Equate them using equality operators (==, !=)\n",
    "2. Observe the output(return type should be boolean)"
   ]
  },
  {
   "cell_type": "code",
   "execution_count": 16,
   "id": "f69ac2e2",
   "metadata": {},
   "outputs": [
    {
     "name": "stdout",
     "output_type": "stream",
     "text": [
      "equal to value is:--->False---><class 'bool'>\n",
      "not equals value is:--->True---><class 'bool'>\n"
     ]
    }
   ],
   "source": [
    "a=10+3j\n",
    "b=5+2j\n",
    "print(\"equal to value is:\",a==b,type(a==b),sep='--->')\n",
    "print(\"not equals value is:\",a!=b,type(a!=b),sep='--->')"
   ]
  },
  {
   "cell_type": "markdown",
   "id": "e23d6dd3",
   "metadata": {},
   "source": [
    "## Q5) Logical operators\n",
    "### Observe the output of below code\n",
    "### Cross check the output manually\n",
    "1. print(10+20j and 20+30j) #20+30j\n",
    "#----------------------------------------->Output is 20+30j\n",
    "\n",
    "2. print(0+0j and 20+30j) #0+0j\n",
    "#----------------------------------------->Output is 0j\n",
    "\n",
    "3. print(20+30j and 0+0j) #0+0j\n",
    "#----------------------------------------->Output is 0j\n",
    "\n",
    "4. Print(0+0j and 0+0j) #0+0j\n",
    "#----------------------------------------->Output is 0j\n",
    "\n",
    "5. print(10+20j or 20+30j) #10+20j\n",
    "#----------------------------------------->Output is 10+20j\n",
    "\n",
    "6. print(0+0j or 20+30j) #20+30j\n",
    "#----------------------------------------->Output is 20+30j\n",
    "\n",
    "7. print(20+30j or 0+0j) #20+30j\n",
    "#----------------------------------------->Output is 20+30j\n",
    "\n",
    "8. print(0+0j or 0+0j) #0+0j\n",
    "#----------------------------------------->Output is 0j\n",
    "\n",
    "9. print(not 10+20j) #False\n",
    "#----------------------------------------->Output is False\n",
    "\n",
    "10. print(not 0+0j) #True\n",
    "#----------------------------------------->Output is True"
   ]
  },
  {
   "cell_type": "code",
   "execution_count": 9,
   "id": "a04c79bf",
   "metadata": {},
   "outputs": [
    {
     "name": "stdout",
     "output_type": "stream",
     "text": [
      "(20+30j)\n",
      "0j\n",
      "0j\n",
      "0j\n",
      "(10+20j)\n",
      "(20+30j)\n",
      "(20+30j)\n",
      "0j\n",
      "False\n",
      "True\n"
     ]
    }
   ],
   "source": [
    "print(10+20j and 20+30j) \n",
    "\n",
    "print(0+0j and 20+30j) \n",
    "#0+0j\n",
    "#Because and searched for the false value and 0+0j was the first false value\n",
    "\n",
    "print(20+30j and 0+0j) \n",
    "#0+0j\n",
    "#----------------------------------------->Output is 0j\n",
    "\n",
    "print(0+0j and 0+0j) \n",
    "#0+0j\n",
    "#----------------------------------------->Output is 0j\n",
    "\n",
    "print(10+20j or 20+30j) \n",
    "#10+20j\n",
    "#-Because or operator searches for the true value and (10+2j ) was the first true value\n",
    "\n",
    "\n",
    "print(0+0j or 20+30j) \n",
    "#20+30j\n",
    "#----------------------------------------->Output is 20+30j\n",
    "\n",
    "print(20+30j or 0+0j) \n",
    "#20+30j\n",
    "#----------------------------------------->Output is 20+30j\n",
    "\n",
    "print(0+0j or 0+0j) \n",
    "#0+0j\n",
    "#----------------------------------------->Output is 0j\n",
    "\n",
    "print(not 10+20j) \n",
    "#False\n",
    "#----------------------------------------->Output is False\n",
    "\n",
    "print(not 0+0j) \n",
    "##not operator returns the opposite boolean value here bool(0+0j) is true so not makes it to false\n",
    "#----------------------------------------->Output is True"
   ]
  },
  {
   "cell_type": "markdown",
   "id": "f60a91e6",
   "metadata": {},
   "source": [
    "## Q6) What is the output of the expression inside the print statement.\n",
    "### Cross check before running the program.\n",
    "1. a = 10+20j\n",
    "2. b = 10+20j\n",
    "3. print(a is b) #True or False?\n",
    "4. print(a is not b) #True or False?"
   ]
  },
  {
   "cell_type": "code",
   "execution_count": 11,
   "id": "2b795504",
   "metadata": {},
   "outputs": [
    {
     "name": "stdout",
     "output_type": "stream",
     "text": [
      "False\n",
      "True\n"
     ]
    }
   ],
   "source": [
    "a = 10+20j\n",
    "b = 10+20j\n",
    "print(a is b) #False  \n",
    "print(a is not b)#True"
   ]
  },
  {
   "cell_type": "markdown",
   "id": "468453b3",
   "metadata": {},
   "source": [
    "## Q7) Membership operation\n",
    "## in, not in are two membership operators and it returns boolean value\n",
    "1. print('2.7' in 'Python2.7.8') #True\n",
    "2. print(10+20j in [10,10.20,10+20j,'Python']) #True\n",
    "3. print(10+20j in (10,10.20,10+20j,'Python')) #True\n",
    "4. print(30+40j in {1,20.30,30+40j}) #True\n",
    "5. print(30+40j in {1:100, 2.3:200, 30+40j:300}) #True\n",
    "6. print(10 in range(20)) #True"
   ]
  },
  {
   "cell_type": "code",
   "execution_count": 15,
   "id": "9ee4e271",
   "metadata": {},
   "outputs": [
    {
     "name": "stdout",
     "output_type": "stream",
     "text": [
      "True <class 'bool'>\n",
      "True <class 'bool'>\n",
      "True <class 'bool'>\n",
      "True <class 'bool'>\n",
      "True <class 'bool'>\n",
      "True <class 'bool'>\n"
     ]
    }
   ],
   "source": [
    "print('2.7' in 'Python2.7.8', type('2.7' in 'Python2.7.8')) \n",
    "print(10 + 20j in [10, 10.20, 10 + 20j, 'Python'], type(10 + 20j in [10, 10.20, 10 + 20j, 'Python']))\n",
    "print(10 + 20j in (10, 10.20, 10 + 20j, 'Python'), type(10 + 20j in (10, 10.20, 10 + 20j, 'Python')))\n",
    "print(30 + 40j in {1, 20.30, 30 + 40j}, type(30 + 40j in {1, 20.30, 30 + 40j}))\n",
    "print(30 + 40j in {1: 100, 2.3: 200, 30 + 40j: 300}, type(30 + 40j in {1: 100, 2.3: 200, 30 + 40j: 300}))\n",
    "print(10 in range(20), type(10 in range(20)))"
   ]
  }
 ],
 "metadata": {
  "kernelspec": {
   "display_name": "Python 3 (ipykernel)",
   "language": "python",
   "name": "python3"
  },
  "language_info": {
   "codemirror_mode": {
    "name": "ipython",
    "version": 3
   },
   "file_extension": ".py",
   "mimetype": "text/x-python",
   "name": "python",
   "nbconvert_exporter": "python",
   "pygments_lexer": "ipython3",
   "version": "3.11.5"
  }
 },
 "nbformat": 4,
 "nbformat_minor": 5
}
