{
 "cells": [
  {
   "cell_type": "markdown",
   "id": "123dd94b",
   "metadata": {},
   "source": [
    "### Q1) Declare an float value and store it in a variable.Check the type and print the id of the same."
   ]
  },
  {
   "cell_type": "code",
   "execution_count": 4,
   "id": "096ae030",
   "metadata": {},
   "outputs": [
    {
     "name": "stdout",
     "output_type": "stream",
     "text": [
      "the type of a is: <class 'float'>\n",
      "the id of a is: 1729747346128\n"
     ]
    }
   ],
   "source": [
    "a=6.0 #Declaring float value 6 and storing it in a\n",
    "print(\"the type of a is:\",type(a))  # For Checking the type \n",
    "print(\"the id of a is:\",id(a)) # For checking the id"
   ]
  },
  {
   "cell_type": "markdown",
   "id": "829b0420",
   "metadata": {},
   "source": [
    "### Q2) Arithmetic Operations on Float\n",
    "### Take two different float values.Store them in two different variables.Do below operations on them:-\n",
    "1. Find sum of both numbers\n",
    "2. Find difference between them\n",
    "3. Find the product of both numbers.\n",
    "4. Find value after dividing first num with second number\n",
    "5. Find the remainder after dividing first number with second number\n",
    "6. Find the quotient after dividing first number with second number\n",
    "7. Find the result of the first num to the power of the second number."
   ]
  },
  {
   "cell_type": "code",
   "execution_count": 3,
   "id": "9ac0d3d0",
   "metadata": {},
   "outputs": [
    {
     "name": "stdout",
     "output_type": "stream",
     "text": [
      "Sum of both numbers is: 16.0\n",
      "\n",
      "Difference between them is: 5.800000000000001\n",
      "\n",
      "Product of both numbers is: 55.589999999999996\n",
      "\n",
      "Value after dividing first number with second number is: 2.1372549019607847\n",
      "\n",
      "Remainder after dividing first number with second is: 0.7000000000000011\n",
      "\n",
      "Quotient after dividing first number with second is: 2.0\n",
      "\n",
      "Result of the first num to the power of the second number: 195377.7660167636\n"
     ]
    }
   ],
   "source": [
    "a=10.9\n",
    "b=5.1\n",
    "print(\"Sum of both numbers is:\",a+b)\n",
    "print()#It is used create an empty line in the output or seperate each outputs to make it more readable\n",
    "print(\"Difference between them is:\",a-b)\n",
    "print()\n",
    "print(\"Product of both numbers is:\",a*b)\n",
    "print()\n",
    "print(\"Value after dividing first number with second number is:\",a/b)\n",
    "print()\n",
    "print(\"Remainder after dividing first number with second is:\",a%b)\n",
    "print()\n",
    "print(\"Quotient after dividing first number with second is:\",a//b)\n",
    "print()\n",
    "print(\"Result of the first num to the power of the second number:\",a**b)"
   ]
  },
  {
   "cell_type": "markdown",
   "id": "41099d0a",
   "metadata": {},
   "source": [
    "### Q3) Comparison Operators on float\n",
    "### Take two different float values.Store them in two different variables. Do below operations on them:-\n",
    "### Compare the two numbers with below operator:-\n",
    "1. Greater than, '>'\n",
    "2. Smaller than, '<'\n",
    "3. Greater than or equal to, '>='\n",
    "4. Less than or equal to, '<='\n",
    "5. Observe their output(return type should be boolean)"
   ]
  },
  {
   "cell_type": "code",
   "execution_count": 6,
   "id": "41af9cef",
   "metadata": {},
   "outputs": [
    {
     "name": "stdout",
     "output_type": "stream",
     "text": [
      "greater than value is:--->False---><class 'bool'>\n",
      "\n",
      "less than value is:--->True---><class 'bool'>\n",
      "\n",
      "greater than or equals value is:--->False---><class 'bool'>\n",
      "\n",
      "less than or equals value is:--->True---><class 'bool'>\n"
     ]
    }
   ],
   "source": [
    "a=3.0\n",
    "b=4.2\n",
    "print(\"greater than value is:\",a>b,type(a>b),sep='--->')\n",
    "print()\n",
    "print(\"less than value is:\",a<b,type(a<b),sep='--->')\n",
    "print()\n",
    "print(\"greater than or equals value is:\",a>=b,type(a>=b),sep='--->')\n",
    "print()\n",
    "print(\"less than or equals value is:\",a<=b,type(a<=b),sep='--->')"
   ]
  },
  {
   "cell_type": "markdown",
   "id": "f3e4c077",
   "metadata": {},
   "source": [
    "## Q4) Equality Operator\n",
    "### Take two different float values.Store them in two different variables.\n",
    "1. Equate them using equality operators (==, !=)\n",
    "2. Observe the output(return type should be boolean)"
   ]
  },
  {
   "cell_type": "code",
   "execution_count": 7,
   "id": "4030901b",
   "metadata": {},
   "outputs": [
    {
     "name": "stdout",
     "output_type": "stream",
     "text": [
      "equal to value is:--->False---><class 'bool'>\n",
      "not equals value is:--->True---><class 'bool'>\n"
     ]
    }
   ],
   "source": [
    "a=5.7\n",
    "b=4.6\n",
    "print(\"equal to value is:\",a==b,type(a==b),sep='--->')\n",
    "print(\"not equals value is:\",a!=b,type(a!=b),sep='--->')"
   ]
  },
  {
   "cell_type": "markdown",
   "id": "e518de25",
   "metadata": {},
   "source": [
    "## Q5)Logical operators\n",
    "### Observe the output of below code . Cross check the output manually\n",
    "1. print(10.20 and 20.30) \n",
    "#both are true and second value taken-->Output is 20.3\n",
    "\n",
    "2. print(0.0 and 20.30) \n",
    "#First is false so first valuetaken->Output is 0.0\n",
    "\n",
    "3. print(20.30 and 0.0) \n",
    "#Goes to till second and second value is false so second is taken>Output is 0.0\n",
    "\n",
    "4. print(0.0 and 0.0) \n",
    "#First is false so first value is taken->Output is 0.0\n",
    "\n",
    "5. print(10.20 or 20.30) \n",
    "#First is True so first value is taken>Output is 10.2\n",
    "\n",
    "6. print(0.0 or 20.30)\n",
    "#Goes to till second and second is true second value is taken->Output is 20.3\n",
    "\n",
    "7. print(20.30 or 0.0) \n",
    "#First is True so first value is taken->Output is 20.3\n",
    "\n",
    "8. print(0.0 or 0.0) \n",
    "#Goes to till second and second is also false and second value is taken>Output is 0.0\n",
    "\n",
    "9. print(not 10.20) \n",
    "#Not of true is false->Output is False\n",
    "\n",
    "10. print(not 0.0) \n",
    "#Not of false is True>Output is True"
   ]
  },
  {
   "cell_type": "code",
   "execution_count": 8,
   "id": "a772c9a3",
   "metadata": {},
   "outputs": [
    {
     "name": "stdout",
     "output_type": "stream",
     "text": [
      "20.3\n",
      "0.0\n",
      "0.0\n",
      "0.0\n",
      "10.2\n",
      "20.3\n",
      "20.3\n",
      "0.0\n",
      "False\n",
      "True\n"
     ]
    }
   ],
   "source": [
    "print(10.20 and 20.30) \n",
    "#both are true and second value taken>Output is 20.3\n",
    "\n",
    "print(0.0 and 20.30) \n",
    "#First is false so first value taken->Output is 0.0\n",
    "\n",
    "print(20.30 and 0.0) \n",
    "#Goes to till second and second value is false so second is taken>Output is 0.0\n",
    "\n",
    "print(0.0 and 0.0) \n",
    "#First is false so first value is taken->Output is 0.0\n",
    "\n",
    "print(10.20 or 20.30) \n",
    "#First is True so first value istaken>Output is 10.2\n",
    "\n",
    "print(0.0 or 20.30)\n",
    "#Goes to till second and second is true second value is taken->Output is 20.3\n",
    "\n",
    "print(20.30 or 0.0) \n",
    "#First is True so first value is taken->Output is 20.3\n",
    "\n",
    "print(0.0 or 0.0) \n",
    "#Goes to till second and second is also false and second value is taken>Output is 0.0\n",
    "\n",
    "print(not 10.20) #-Not of true is false->Output is False\n",
    "\n",
    "print(not 0.0) #Not of false is True>Output is True\n"
   ]
  },
  {
   "cell_type": "markdown",
   "id": "7cfac218",
   "metadata": {},
   "source": [
    "### Q6) What is the output of expression inside print statement. Cross check before running the program.\n",
    "1. a = 10.20\n",
    "2. b - 10.20\n",
    "3. print(a is b) #True or False? \n",
    "4. print(a is not b) #True or False? \n",
    "5. Why the Id of float values are different when the same value is assigned to two different variables ex: a = 10.5 b=10.5. but id will be same if I assign the variable having float i.e. a=c then both a and c's Id are same"
   ]
  },
  {
   "cell_type": "code",
   "execution_count": 14,
   "id": "05960f80",
   "metadata": {},
   "outputs": [
    {
     "name": "stdout",
     "output_type": "stream",
     "text": [
      "Answers of 1,2 are as follows:\n",
      "False\n",
      "True\n",
      "\n",
      "The answers of 5 is as follows:\n",
      "1729747341648\n",
      "1729747350128\n",
      "1729747341648\n"
     ]
    }
   ],
   "source": [
    "print(\"Answers of 1,2 are as follows:\")\n",
    "a = 10.20\n",
    "b = 10.20\n",
    "print(a is b) # False\n",
    "print(a is not b) # False\n",
    "print()\n",
    "k = 10.5\n",
    "l = 10.5\n",
    "m = k\n",
    "print(\"The answers of 5 is as follows:\")\n",
    "print(id(k))\n",
    "print(id(l))\n",
    "print(id(m))\n",
    "#In this case k and l have the same float values but python may choose to represent them as separate objects in memory. \n",
    "#However, when we assign c = a, we are making c reference the same object as a. Therefore, id(c) will be the same as id(a)"
   ]
  },
  {
   "cell_type": "markdown",
   "id": "2e130304",
   "metadata": {},
   "source": [
    "### Q7) Bitwise operation is not applicable between instances of float.Why the Id of float values are different when the same value is assigned to two different variables ex: a = 10.5 b=10.5. but id will be same if I assign the variable having float i.e. a=c then both a and c's Id are same object reusability concept is not applicable on float values."
   ]
  },
  {
   "cell_type": "code",
   "execution_count": 15,
   "id": "b3954b22",
   "metadata": {},
   "outputs": [
    {
     "name": "stdout",
     "output_type": "stream",
     "text": [
      "The answers is as follows:\n",
      "1729747341840\n",
      "1729747352144\n",
      "1729747341840\n"
     ]
    }
   ],
   "source": [
    "#Bitwise operators in Python (&, |, ^, <<, and >>) are designed to work with integers.\n",
    "#for it to work on float values we first need to convert float value to int value int\n",
    "#example int(10.5)&int(10.5)=9,But here the fractional part would be removed i.e 10.5 will become 10 \n",
    "#So it is not applicable for float\n",
    "k = 10.5\n",
    "l = 10.5\n",
    "m = k\n",
    "print(\"The answers is as follows:\")\n",
    "print(id(k))\n",
    "print(id(l))\n",
    "print(id(m))\n",
    "#In this case k and l have the same float values but python may choose to represent them as separate objects in memory. \n",
    "#However, when we assign c = a, we are making c reference the same object as a. Therefore, id(c) will be the same as id(a)"
   ]
  },
  {
   "cell_type": "markdown",
   "id": "672986da",
   "metadata": {},
   "source": [
    "## Q8) Membership operation\n",
    "### in, not in are two membership operators and it returns boolean value\n",
    "1. print('2.7' in 'Python2.7.8') #True\n",
    "2. print(10.20 in [10,10.20,10+20j,'Python']) #True\n",
    "3. print(10.20 in (10,10.20,10+20j,'Python')) # True\n",
    "4. print(20.30 in {1,20.30,30+40j}) # True\n",
    "5. print(2.3 in {1:100, 2.3:200, 30+40j:300}) # True\n",
    "6. print(10 in range(20)) # True"
   ]
  },
  {
   "cell_type": "code",
   "execution_count": 17,
   "id": "223cd9b5",
   "metadata": {},
   "outputs": [
    {
     "name": "stdout",
     "output_type": "stream",
     "text": [
      "True <class 'bool'>\n",
      "True <class 'bool'>\n",
      "True <class 'bool'>\n",
      "True <class 'bool'>\n",
      "True <class 'bool'>\n",
      "True <class 'bool'>\n"
     ]
    }
   ],
   "source": [
    "print('2.7' in 'Python2.7.8',type('2.7' in 'Python2.7.8')) #True\n",
    "print(10.20 in [10,10.20,10+20j,'Python'],type(10.20 in [10,10.20,10+20j,'Python'])) #True\n",
    "print(10.20 in (10,10.20,10+20j,'Python'),type(10.20 in (10,10.20,10+20j,'Python'))) # True\n",
    "print(20.30 in {1,20.30,30+40j},type(20.30 in {1,20.30,30+40j})) # True\n",
    "print(2.3 in {1:100, 2.3:200, 30+40j:300},type(2.3 in {1:100, 2.3:200, 30+40j:300})) # True\n",
    "print(10 in range(20),type(10 in range(20)))"
   ]
  }
 ],
 "metadata": {
  "kernelspec": {
   "display_name": "Python 3 (ipykernel)",
   "language": "python",
   "name": "python3"
  },
  "language_info": {
   "codemirror_mode": {
    "name": "ipython",
    "version": 3
   },
   "file_extension": ".py",
   "mimetype": "text/x-python",
   "name": "python",
   "nbconvert_exporter": "python",
   "pygments_lexer": "ipython3",
   "version": "3.11.5"
  }
 },
 "nbformat": 4,
 "nbformat_minor": 5
}
