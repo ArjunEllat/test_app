{
 "cells": [
  {
   "cell_type": "markdown",
   "id": "4559b26b",
   "metadata": {},
   "source": [
    "### Q1) Declare an int value and store it in a variable.Check the type and print the id of the same.\n"
   ]
  },
  {
   "cell_type": "code",
   "execution_count": 1,
   "id": "2f0e7ae6",
   "metadata": {},
   "outputs": [
    {
     "name": "stdout",
     "output_type": "stream",
     "text": [
      "the type of a is: <class 'int'>\n",
      "the id of a is: 140715482911624\n"
     ]
    }
   ],
   "source": [
    "a=4   #Declaring int value 4 and storing it in a\n",
    "print(\"the type of a is:\",type(a)) # For Checking the type \n",
    "print(\"the id of a is:\",id(a))# For checking the id"
   ]
  },
  {
   "cell_type": "markdown",
   "id": "6c32c0fd",
   "metadata": {},
   "source": [
    "### Q2) Take one int value between 0 - 256.Assign it to two different variables.Check the id of both the variables. It should come the same. Check why?"
   ]
  },
  {
   "cell_type": "code",
   "execution_count": 2,
   "id": "64122e40",
   "metadata": {},
   "outputs": [
    {
     "name": "stdout",
     "output_type": "stream",
     "text": [
      "140715758622536 140715758622536\n",
      "They are same because they share the same memory address i.e both will be present somewhere in heap memory.\n",
      "Memory reusability concept is applicable here\n"
     ]
    }
   ],
   "source": [
    "#Taking the value 34(present int the range of 0-256) and assigning it to a and b\n",
    "a=34\n",
    "b=34\n",
    "print(id(a),id(b))\n",
    "#While executing the outputs were 140715482912584 140715482912584 which are equal\n",
    "\n",
    "\n",
    "if id(a)==id(b):#since they have same id the below will print the reason why they are same\n",
    "    print('''They are same because they share the same memory address i.e both will be present somewhere in heap memory.\n",
    "Memory reusability concept is applicable here''')\n"
   ]
  },
  {
   "cell_type": "markdown",
   "id": "2f63dbfc",
   "metadata": {},
   "source": [
    "### Q3) Take one int value either less than -5 or greater than 256.Assign it to two different variables.Check the id of both the variables. It should come different.Check why?"
   ]
  },
  {
   "cell_type": "code",
   "execution_count": 7,
   "id": "4bf488a3",
   "metadata": {},
   "outputs": [
    {
     "name": "stdout",
     "output_type": "stream",
     "text": [
      "2150828004080 2150828013968\n",
      "They are coming different because they have different memory address. Because they are not in the range of -5 to 256\n"
     ]
    }
   ],
   "source": [
    "a=-6\n",
    "b=-6\n",
    "print(id(a),id(b))\n",
    "#While executing the outputs were 2150828013648 2150828014032\n",
    "\n",
    "if id(a)!=id(b):#since they have different id the below will print the reason why they are not having same id\n",
    "    print('''They are coming different because they have different memory address. Because they are not in the range of -5 to 256''')\n",
    "\n"
   ]
  },
  {
   "cell_type": "markdown",
   "id": "66a1d77d",
   "metadata": {},
   "source": [
    "### Q4) Arithmetic Operations on integers\n",
    "### Take two different integer values.Store them in two different variables.Do below operations on them:-\n",
    "1. Find sum of both numbers\n",
    "2. Find difference between them\n",
    "3. Find the product of both numbers.\n",
    "4. Find value after dividing first num with second number\n",
    "5. Find the remainder after dividing first number with second number\n",
    "6. Find the quotient after dividing first number with second number\n",
    "7. Find the result of the first num to the power of the second number."
   ]
  },
  {
   "cell_type": "code",
   "execution_count": 14,
   "id": "e41c38f6",
   "metadata": {},
   "outputs": [
    {
     "name": "stdout",
     "output_type": "stream",
     "text": [
      "1.Sum of both numbers is: 15\n",
      "\n",
      "2.Difference between them is: 5\n",
      "\n",
      "3.Product of both numbers is: 50\n",
      "\n",
      "4.Value after dividing first number with second number is: 2.0\n",
      "\n",
      "5.Remainder after dividing first number with second is: 0\n",
      "\n",
      "6.Quotient after dividing first number with second is: 2\n",
      "\n",
      "7.Result of the first num to the power of the second number: 100000\n"
     ]
    }
   ],
   "source": [
    "a=10\n",
    "b=5\n",
    "print(\"1.Sum of both numbers is:\",a+b)\n",
    "print()#It is used create an empty line in the output or seperate each outputs to make it more readable\n",
    "print(\"2.Difference between them is:\",a-b)\n",
    "print()\n",
    "print(\"3.Product of both numbers is:\",a*b)\n",
    "print()\n",
    "print(\"4.Value after dividing first number with second number is:\",a/b)\n",
    "print()\n",
    "print(\"5.Remainder after dividing first number with second is:\",a%b)\n",
    "print()\n",
    "print(\"6.Quotient after dividing first number with second is:\",a//b)\n",
    "print()\n",
    "print(\"7.Result of the first num to the power of the second number:\",a**b)"
   ]
  },
  {
   "cell_type": "markdown",
   "id": "ee28ebe9",
   "metadata": {},
   "source": [
    "### Q5) Comparison Operators on integers\n",
    "### Take two different integer values.Store them in two different variables. Do below operations on them:-\n",
    "### Compare the two numbers with below operator:-\n",
    "1. Greater than, '>'\n",
    "2. Smaller than, '<'\n",
    "3. Greater than or equal to, '>='\n",
    "4. Less than or equal to, '<='\n",
    "5. Observe their output(return type should be boolean)"
   ]
  },
  {
   "cell_type": "code",
   "execution_count": 15,
   "id": "9a237122",
   "metadata": {},
   "outputs": [
    {
     "name": "stdout",
     "output_type": "stream",
     "text": [
      "greater than value is:--->False---><class 'bool'>\n",
      "\n",
      "less than value is:--->True---><class 'bool'>\n",
      "\n",
      "greater than or equals value is:--->False---><class 'bool'>\n",
      "\n",
      "less than or equals value is:--->True---><class 'bool'>\n"
     ]
    }
   ],
   "source": [
    "a=3\n",
    "b=4\n",
    "print(\"greater than value is:\",a>b,type(a>b),sep='--->')\n",
    "print()\n",
    "print(\"less than value is:\",a<b,type(a<b),sep='--->')\n",
    "print()\n",
    "print(\"greater than or equals value is:\",a>=b,type(a>=b),sep='--->')\n",
    "print()\n",
    "print(\"less than or equals value is:\",a<=b,type(a<=b),sep='--->')"
   ]
  },
  {
   "cell_type": "markdown",
   "id": "eb38170b",
   "metadata": {},
   "source": [
    "## Q6) Equality Operator\n",
    "### Take two different integer values.Store them in two different variables.\n",
    "1. Equate them using equality operators (==, !=)\n",
    "2. Observe the output(return type should be boolean)"
   ]
  },
  {
   "cell_type": "code",
   "execution_count": 16,
   "id": "844dba4d",
   "metadata": {},
   "outputs": [
    {
     "name": "stdout",
     "output_type": "stream",
     "text": [
      "equal to value is:--->False---><class 'bool'>\n",
      "not equals value is:--->True---><class 'bool'>\n"
     ]
    }
   ],
   "source": [
    "a=5\n",
    "b=4\n",
    "print(\"equal to value is:\",a==b,type(a==b),sep='--->')\n",
    "print(\"not equals value is:\",a!=b,type(a!=b),sep='--->')"
   ]
  },
  {
   "cell_type": "markdown",
   "id": "f835f3a3",
   "metadata": {},
   "source": [
    "### Q7) Logical operators,Observe the output of below code, Cross check the output manually"
   ]
  },
  {
   "cell_type": "code",
   "execution_count": 1,
   "id": "da6371b4",
   "metadata": {},
   "outputs": [
    {
     "name": "stdout",
     "output_type": "stream",
     "text": [
      "20\n",
      "0\n",
      "0\n",
      "0\n",
      "10\n",
      "20\n",
      "20\n",
      "0\n",
      "False\n",
      "True\n"
     ]
    }
   ],
   "source": [
    "print(10 and 20)\n",
    "#----------------------------------------->Output is 20\n",
    "#Because and operator searches for false value if the first operand is true then  the second operand is the result\n",
    "\n",
    "print(0 and 20)\n",
    "#----------------------------------------->Output is 0\n",
    "#Here bool(0) is false so output is 0\n",
    "\n",
    "print(20 and 0)\n",
    "#----------------------------------------->Output is 0\n",
    "\n",
    "print(0 and 0)\n",
    "#----------------------------------------->Output is 0\n",
    "\n",
    "print(10 or 20)\n",
    "#----------------------------------------->Output is 10\n",
    "#Because the or operator seaarches for true value and 10 is the first true value.\n",
    "\n",
    "print(0 or 20)\n",
    "#----------------------------------------->Output is 20\n",
    "\n",
    "print(20 or 0)\n",
    "#----------------------------------------->Output is 20\n",
    "\n",
    "print(0 or 0)\n",
    "#----------------------------------------->Output is 0\n",
    "\n",
    "print(not 10)\n",
    "#----------------------------------------->Output is False\n",
    "#not operator returns the opposite boolean value here bool(10) is true so not makes it to false\n",
    "\n",
    "print(not 0)\n",
    "#----------------------------------------->Output is True"
   ]
  },
  {
   "cell_type": "markdown",
   "id": "295503a0",
   "metadata": {},
   "source": [
    "### Q8) Bitwise Operators\n",
    "#### Do below operations on the values provided below:-\n",
    "1. Bitwise and(&) -----------------------------------------> 10, 20-------> Output is 0\n",
    "2. Bitwise or(|) -----------------------------------------> 10, 20-------> Output is 30\n",
    "3. Bitwise(^) -----------------------------------------> 10, 20-------> Output is 30\n",
    "4. Bitwise negation(~) ------------------------------------> 10-------> Output is -11\n",
    "5. Bitwise left shift ------------------------------------> 10,2-------> Output is 40\n",
    "6. Bitwise right shift ------------------------------------> 10,2-------> Output is 2\n",
    "### Cross check the output manually"
   ]
  },
  {
   "cell_type": "code",
   "execution_count": 18,
   "id": "b242cf9a",
   "metadata": {},
   "outputs": [
    {
     "name": "stdout",
     "output_type": "stream",
     "text": [
      "0\n",
      "30\n",
      "30\n",
      "-11\n",
      "40\n",
      "2\n"
     ]
    }
   ],
   "source": [
    "# Bitwise and(&) -----------------------------------------> \n",
    "print(10&20)\n",
    "#-------> Output is 0\n",
    "\n",
    "# Bitwise or(|) -----------------------------------------> \n",
    "print(10|20)\n",
    "# -------> Output is 30\n",
    "\n",
    "# Bitwise(^) -----------------------------------------> \n",
    "print(10^20)\n",
    "# -------> Output is 30\n",
    "\n",
    "# Bitwise negation(~) ------------------------------------> \n",
    "print(~10)\n",
    "# -------> Output is -11\n",
    "\n",
    "# Bitwise left shift ------------------------------------>\n",
    "print(10<<2)\n",
    "# -------> Output is 40\n",
    "\n",
    "# Bitwise right shift ------------------------------------> \n",
    "print(10>>2)\n",
    "# -------> Output is 2\n",
    "\n",
    "# Cross check the output manually"
   ]
  },
  {
   "cell_type": "markdown",
   "id": "b8657903",
   "metadata": {},
   "source": [
    "### Q9) What is the output of expression inside print statement. Cross check before running the program.\n",
    "1. a = 10\n",
    "2. b = 10\n",
    "3. print(a is b) #True or False?\n",
    "4. print(a is not b) #True or False?\n",
    "5. a = 1000\n",
    "6. b = 1000\n",
    "7. print(a is b) #True or False?\n",
    "8. print(a is not b) #True or False?"
   ]
  },
  {
   "cell_type": "code",
   "execution_count": 19,
   "id": "882ebea3",
   "metadata": {},
   "outputs": [
    {
     "name": "stdout",
     "output_type": "stream",
     "text": [
      "True\n",
      "False\n",
      "False\n",
      "True\n"
     ]
    }
   ],
   "source": [
    "a = 10\n",
    "b = 10\n",
    "print(a is b) #True because it is in the range of -5 to 256 so the integers within this range are the same object in memory when assigned to different variables.\n",
    "print(a is not b) #False\n",
    "a = 1000\n",
    "b = 1000\n",
    "print(a is b) #False because it is not in the range of -5 to 256\n",
    "print(a is not b) #True"
   ]
  },
  {
   "cell_type": "markdown",
   "id": "2248a5dd",
   "metadata": {},
   "source": [
    "### Q10) What is the output of expression inside print statement. Cross check before running the program.\n",
    "\n",
    "1. print(10+(10*32)//2**5&20+(~(-10))<<2)\n",
    "2. Output---> 20"
   ]
  },
  {
   "cell_type": "code",
   "execution_count": 27,
   "id": "d846135a",
   "metadata": {},
   "outputs": [
    {
     "name": "stdout",
     "output_type": "stream",
     "text": [
      "20\n"
     ]
    }
   ],
   "source": [
    "print(10+(10*32)//2**5&20+(~(-10))<<2)\n",
    "\n",
    "# Solving this part 10 + (10 * 32) // 2**5 \n",
    "# 2**5=32---i\n",
    "# 10*32=320---ii\n",
    "# ii//i=> 320//32==10\n",
    "# 10+10=20\n",
    "# Answer till now after solving first part will be 20&20+(~(-10))<<2)\n",
    "# Now solving this part 20+(~(-10))<<2)\n",
    "# ~(-10)==9\n",
    "# 20+9=29\n",
    "# 29 << 2==116\n",
    "# Answer after solving second part:- 20&116\n",
    "# final ouput:- 20"
   ]
  },
  {
   "cell_type": "markdown",
   "id": "08dd0deb",
   "metadata": {},
   "source": [
    "### Q11) Membership operation in, not in are two membership operators and it returns boolean value\n",
    "1. print('2' in 'Python2.7.8')\n",
    "2. print(10 in [10,10.20,10+20j,'Python'])\n",
    "3. print(10 in (10,10.20,10+20j,'Python'))\n",
    "4. print(2 in {1,2,3})\n",
    "5. print(3 in {1:100, 2:200, 3:300})\n",
    "6. print(10 in range(20))"
   ]
  },
  {
   "cell_type": "code",
   "execution_count": 30,
   "id": "5ca1bb9c",
   "metadata": {},
   "outputs": [
    {
     "name": "stdout",
     "output_type": "stream",
     "text": [
      "True <class 'bool'>\n",
      "True <class 'bool'>\n",
      "True <class 'bool'>\n",
      "True <class 'bool'>\n",
      "True <class 'bool'>\n",
      "True <class 'bool'>\n"
     ]
    }
   ],
   "source": [
    "#Membership operations, such as in and not in, return boolean values because their purpose is to check whether a value is a member of a sequence or not. \n",
    "#The result of such an operation is either true/false indicating whether the membership condition is satisfied.\n",
    "print('2' in 'Python2.7.8',type('2' in 'Python2.7.8'))\n",
    "print(10 in [10,10.20,10+20j,'Python'],type(10 in [10,10.20,10+20j,'Python']))\n",
    "print(10 in (10,10.20,10+20j,'Python'),type(10 in (10,10.20,10+20j,'Python')))\n",
    "print(2 in {1,2,3},type(2 in {1,2,3}))\n",
    "print(3 in {1:100, 2:200, 3:300},type(3 in {1:100, 2:200, 3:300}))\n",
    "print(10 in range(20),type(10 in range(20)))"
   ]
  },
  {
   "cell_type": "markdown",
   "id": "ffde6ffe",
   "metadata": {},
   "source": [
    "### Q12) An integer can be represented in binary, octal or hexadecimal form.\n",
    "1. Declare one binary, one octal and one hexadecimal value and store them in three different variables.\n",
    "2. Convert 9876 to its binary, octal and hexadecimal equivalent and printtheir corresponding value."
   ]
  },
  {
   "cell_type": "code",
   "execution_count": 46,
   "id": "e11f0efe",
   "metadata": {},
   "outputs": [
    {
     "name": "stdout",
     "output_type": "stream",
     "text": [
      "declared and stored values:\n",
      "87\n",
      "87\n",
      "87\n",
      "the conversion of 9876 in binary: 0b10011010010100\n",
      "the conversion of 9876 in octal: 0o23224\n",
      "the conversion of 9876 in hexadecimal: 0x2694\n"
     ]
    }
   ],
   "source": [
    "#bin(87)==0b1010111\n",
    "a=0b1010111\n",
    "#oct(87)=0o127\n",
    "b=0o127\n",
    "#hex(87)=hex(87)\n",
    "c=0x57\n",
    "print(\"declared and stored values:\",a,b,c,sep='\\n')\n",
    "k=9876\n",
    "print(\"the conversion of 9876 in binary:\",bin(9876))\n",
    "print(\"the conversion of 9876 in octal:\",oct(9876))\n",
    "print(\"the conversion of 9876 in hexadecimal:\",hex(9876))"
   ]
  },
  {
   "cell_type": "markdown",
   "id": "41250ef9",
   "metadata": {},
   "source": [
    "### Q13) What will be the output of following:-\n",
    "1. a = 0b1010000\n",
    "2. print(a)\n",
    "3. b = 0o7436\n",
    "4. print(b)\n",
    "5. c = 0xfade\n",
    "6. print(c)\n",
    "7. print(bin(80))\n",
    "8. print(oct(3870))\n",
    "9. print(hex(64222))\n",
    "10. print(bin(0b1010000))\n",
    "11. print(bin(0xfade))\n",
    "12. print(oct(0xfade))\n",
    "13. print(oct(0o7436))\n",
    "14. print(hex(0b1010000))\n",
    "15. print(hex(0xfade))"
   ]
  },
  {
   "cell_type": "code",
   "execution_count": 48,
   "id": "4f342115",
   "metadata": {},
   "outputs": [
    {
     "name": "stdout",
     "output_type": "stream",
     "text": [
      "80\n",
      "3870\n",
      "64222\n",
      "0b1010000\n",
      "0o7436\n",
      "0xfade\n",
      "0b1010000\n",
      "0b1111101011011110\n",
      "0o175336\n",
      "0o7436\n",
      "0x50\n",
      "0xfade\n"
     ]
    }
   ],
   "source": [
    "a = 0b1010000\n",
    "print(a)   #80\n",
    "b = 0o7436\n",
    "print(b)  #3870\n",
    "c = 0xfade\n",
    "print(c) #64222\n",
    "print(bin(80))#0b1010000\n",
    "print(oct(3870))#0o7436\n",
    "print(hex(64222))#0xfade\n",
    "print(bin(0b1010000))#0b1010000\n",
    "print(bin(0xfade))#0b1111101011011110\n",
    "print(oct(0xfade))#0o175336\n",
    "print(oct(0o7436))#0o7436\n",
    "print(hex(0b1010000))#0x50\n",
    "print(hex(0xfade))#0xfade"
   ]
  }
 ],
 "metadata": {
  "kernelspec": {
   "display_name": "Python 3 (ipykernel)",
   "language": "python",
   "name": "python3"
  },
  "language_info": {
   "codemirror_mode": {
    "name": "ipython",
    "version": 3
   },
   "file_extension": ".py",
   "mimetype": "text/x-python",
   "name": "python",
   "nbconvert_exporter": "python",
   "pygments_lexer": "ipython3",
   "version": "3.11.5"
  }
 },
 "nbformat": 4,
 "nbformat_minor": 5
}
