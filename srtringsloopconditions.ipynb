{
 "cells": [
  {
   "cell_type": "raw",
   "id": "20061bd1",
   "metadata": {},
   "source": []
  },
  {
   "cell_type": "code",
   "execution_count": 1,
   "id": "b96a3a19",
   "metadata": {},
   "outputs": [
    {
     "name": "stdout",
     "output_type": "stream",
     "text": [
      "a= 6 b= 5\n"
     ]
    }
   ],
   "source": [
    "#variable swap\n",
    "a=5\n",
    "b=6\n",
    "a,b=b,a\n",
    "print(\"a=\",a,\"b=\",b)"
   ]
  },
  {
   "cell_type": "code",
   "execution_count": 3,
   "id": "867f7e7b",
   "metadata": {},
   "outputs": [
    {
     "name": "stdout",
     "output_type": "stream",
     "text": [
      "enter the first value:10\n",
      "enter the second value:2\n",
      "the added value= 12.0 the subtracted value= 8.0 the divided value= 5.0 the multiplied value= 20.0\n"
     ]
    }
   ],
   "source": [
    "a=float(input(\"enter the first value:\"))\n",
    "b=float(input(\"enter the second value:\"))\n",
    "c=a+b\n",
    "d=a-b\n",
    "e=a/b\n",
    "f=a*b\n",
    "print(\"the added value=\",c,\"the subtracted value=\",d,\"the divided value=\",e,\"the multiplied value=\",f)"
   ]
  },
  {
   "cell_type": "code",
   "execution_count": 10,
   "id": "f893b0a6",
   "metadata": {},
   "outputs": [
    {
     "name": "stdout",
     "output_type": "stream",
     "text": [
      "Reversed String: dlroW olleH\n"
     ]
    }
   ],
   "source": [
    "#string reversal\n",
    "original_string = \"Hello World\"\n",
    "reversed_string = original_string[::-1]\n",
    "print(\"Reversed String:\", reversed_string)"
   ]
  },
  {
   "cell_type": "code",
   "execution_count": 9,
   "id": "7c17cc79",
   "metadata": {},
   "outputs": [
    {
     "name": "stdout",
     "output_type": "stream",
     "text": [
      "Reversed String: 11\n"
     ]
    }
   ],
   "source": [
    "original_string = \"Hello World\"\n",
    "print(\"Reversed String:\", len(reversed_string))"
   ]
  },
  {
   "cell_type": "code",
   "execution_count": 20,
   "id": "a24e71e3",
   "metadata": {},
   "outputs": [
    {
     "name": "stdout",
     "output_type": "stream",
     "text": [
      "Reversed String: Hello\n"
     ]
    }
   ],
   "source": [
    "original_string = \"Hello World\"\n",
    "reversed_string = original_string[0:5]\n",
    "print(\"Reversed String:\", reversed_string)"
   ]
  },
  {
   "cell_type": "code",
   "execution_count": 22,
   "id": "a9c68f1d",
   "metadata": {},
   "outputs": [
    {
     "name": "stdout",
     "output_type": "stream",
     "text": [
      "enter the number:2\n",
      "even\n"
     ]
    }
   ],
   "source": [
    "#even or odd\n",
    "Check=int(input(\"enter the number:\"))\n",
    "if Check%2==0:\n",
    "    print(\"even\")\n",
    "else:\n",
    "    print(\"odd\")"
   ]
  },
  {
   "cell_type": "code",
   "execution_count": 25,
   "id": "1309d099",
   "metadata": {},
   "outputs": [
    {
     "name": "stdout",
     "output_type": "stream",
     "text": [
      "Enter a number: 5\n",
      "Factorial: 24\n"
     ]
    }
   ],
   "source": [
    "num = int(input(\"Enter a number: \"))\n",
    "factorial = 1\n",
    "for i in range(1, num):\n",
    "    factorial *= i\n",
    "print(\"Factorial:\", factorial)"
   ]
  },
  {
   "cell_type": "code",
   "execution_count": 27,
   "id": "39c7b8a5",
   "metadata": {},
   "outputs": [
    {
     "name": "stdout",
     "output_type": "stream",
     "text": [
      "A \n",
      "A A \n",
      "A A A \n",
      "A A A A \n",
      "A A A A A \n"
     ]
    }
   ],
   "source": [
    "#Looping Patterns:\n",
    "#Print a pattern using nested loops. For example, a right-angled triangle pattern\n",
    "for i in range(1, 6):\n",
    "    print('* ' * i)"
   ]
  },
  {
   "cell_type": "code",
   "execution_count": 37,
   "id": "b906f4e3",
   "metadata": {},
   "outputs": [
    {
     "name": "stdout",
     "output_type": "stream",
     "text": [
      "enter the number:0\n",
      "zero\n"
     ]
    }
   ],
   "source": [
    "#Control Statements:\n",
    "#Implement a program using if-else statements to determine if a number is positive, negative, or zero.\n",
    "num=int(input(\"enter the number:\"))\n",
    "if num>0:\n",
    "    print(\"positive\")\n",
    "elif num<0:\n",
    "        print(\"negative\")\n",
    "else:\n",
    "    print(\"zero\")\n",
    "    "
   ]
  },
  {
   "cell_type": "code",
   "execution_count": 38,
   "id": "4e837410",
   "metadata": {},
   "outputs": [
    {
     "name": "stdout",
     "output_type": "stream",
     "text": [
      "Uppercase: HELLO, WORLD!\n",
      "Lowercase: hello, world!\n"
     ]
    }
   ],
   "source": [
    "\n",
    "input_string = \"Hello, World!\"\n",
    "print(\"Uppercase:\", input_string.upper())\n",
    "print(\"Lowercase:\", input_string.lower())"
   ]
  },
  {
   "cell_type": "code",
   "execution_count": 39,
   "id": "72bdf09e",
   "metadata": {},
   "outputs": [
    {
     "name": "stdout",
     "output_type": "stream",
     "text": [
      "List: [1, 2, 3, 4, 5, 6]\n",
      "Element at index 2: 3\n"
     ]
    }
   ],
   "source": [
    "#List Operations:\n",
    "#Create a list, add elements to it, and print specific elements using list indexing.\n",
    "my_list = [1, 2, 3, 4, 5]\n",
    "my_list.append(6)\n",
    "print(\"List:\", my_list)\n",
    "print(\"Element at index 2:\", my_list[2])"
   ]
  },
  {
   "cell_type": "code",
   "execution_count": 40,
   "id": "088f630f",
   "metadata": {},
   "outputs": [
    {
     "name": "stdout",
     "output_type": "stream",
     "text": [
      "a [1, 2, 3, 4, 9]\n"
     ]
    }
   ],
   "source": [
    "a=[1,2,3,4]\n",
    "a.append(9)\n",
    "print(\"a\",a)"
   ]
  },
  {
   "cell_type": "code",
   "execution_count": null,
   "id": "43930e6b",
   "metadata": {},
   "outputs": [],
   "source": []
  }
 ],
 "metadata": {
  "kernelspec": {
   "display_name": "Python 3 (ipykernel)",
   "language": "python",
   "name": "python3"
  },
  "language_info": {
   "codemirror_mode": {
    "name": "ipython",
    "version": 3
   },
   "file_extension": ".py",
   "mimetype": "text/x-python",
   "name": "python",
   "nbconvert_exporter": "python",
   "pygments_lexer": "ipython3",
   "version": "3.11.5"
  }
 },
 "nbformat": 4,
 "nbformat_minor": 5
}
