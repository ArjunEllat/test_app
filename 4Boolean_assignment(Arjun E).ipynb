{
 "cells": [
  {
   "cell_type": "markdown",
   "id": "be0875a3",
   "metadata": {},
   "source": [
    "### Q1) Declare a boolean value and store it in a variable.Check the type and print the id of the same."
   ]
  },
  {
   "cell_type": "code",
   "execution_count": 2,
   "id": "5c3559bd",
   "metadata": {},
   "outputs": [
    {
     "name": "stdout",
     "output_type": "stream",
     "text": [
      "the type of a is: <class 'bool'>\n",
      "the id of a is: 140715757152800\n"
     ]
    }
   ],
   "source": [
    "a=bool(4)\n",
    "print(\"the type of a is:\",type(a))# For Checking the type\n",
    "print(\"the id of a is:\",id(a))# For checking the id"
   ]
  },
  {
   "cell_type": "markdown",
   "id": "d333c9fb",
   "metadata": {},
   "source": [
    "### Q2) Take one bool value between 0 - 256.Assign it to two different variables.Check the id of both the variables. It should come the same. Check why?"
   ]
  },
  {
   "cell_type": "code",
   "execution_count": 3,
   "id": "55dd567b",
   "metadata": {},
   "outputs": [
    {
     "name": "stdout",
     "output_type": "stream",
     "text": [
      "140715757152800 140715757152800\n"
     ]
    }
   ],
   "source": [
    "a=bool(34)\n",
    "b=bool(34)\n",
    "print(id(a),id(b))\n",
    "#They are same because they share the same memory address i.e both will be present somewhere in heap memory.\n",
    "#Memory reusability concept is applicable here."
   ]
  },
  {
   "cell_type": "markdown",
   "id": "69bf8dd7",
   "metadata": {},
   "source": [
    "### Q3) Arithmetic Operations on boolean values\n",
    "### Take two different boolean values.Store them in two different variables.Do below operations on them:-\n",
    "1. Find sum of both numbers\n",
    "2. Find difference between them\n",
    "3. Find the product of both numbers.\n",
    "4. Find value after dividing first num with second number\n",
    "5. Find the remainder after dividing first number with second number\n",
    "6. Find the quotient after dividing first number with second number\n",
    "7. Find the result of the first num to the power of the second number."
   ]
  },
  {
   "cell_type": "code",
   "execution_count": 4,
   "id": "79cfd01b",
   "metadata": {},
   "outputs": [
    {
     "name": "stdout",
     "output_type": "stream",
     "text": [
      "Sum of both numbers is: 2\n",
      "Difference between them is: 0\n",
      "Product of both numbers is: 1\n",
      "Value after dividing first number with second number is: 1.0\n",
      "Remainder after dividing first number with second is: 0\n",
      "Quotient after dividing first number with second is: 1\n",
      "Result of the first num to the power of the second number: 1\n"
     ]
    }
   ],
   "source": [
    "a=bool(9)#bool(9) is true and default value of true is 1\n",
    "b=bool(3)#bool(3) is true and default value of true is 1\n",
    "print(\"Sum of both numbers is:\",a+b)\n",
    "print(\"Difference between them is:\",a-b)\n",
    "print(\"Product of both numbers is:\",a*b)\n",
    "print(\"Value after dividing first number with second number is:\",a/b)\n",
    "print(\"Remainder after dividing first number with second is:\",a%b)\n",
    "print(\"Quotient after dividing first number with second is:\",a//b)\n",
    "print(\"Result of the first num to the power of the second number:\",a**b)"
   ]
  },
  {
   "cell_type": "markdown",
   "id": "c51c47e8",
   "metadata": {},
   "source": [
    "### Q4) Comparison Operators on boolean values\n",
    "### Take two different boolean values.Store them in two different variables. Do below operations on them:-\n",
    "### Compare the two numbers with below operator:-\n",
    "1. Greater than, '>'\n",
    "2. Smaller than, '<'\n",
    "3. Greater than or equal to, '>='\n",
    "4. Less than or equal to, '<='\n",
    "5. Observe their output(return type should be boolean)"
   ]
  },
  {
   "cell_type": "code",
   "execution_count": 6,
   "id": "ec4746a0",
   "metadata": {},
   "outputs": [
    {
     "name": "stdout",
     "output_type": "stream",
     "text": [
      "greater than value is: False\n",
      "less than value is: False\n",
      "greater than or equals value is: True\n",
      "less than or equals value is: True\n"
     ]
    }
   ],
   "source": [
    "a=bool(3)\n",
    "b=bool(4)\n",
    "print(\"greater than value is:\",a>b)\n",
    "print(\"less than value is:\",a<b)\n",
    "print(\"greater than or equals value is:\",a>=b)\n",
    "print(\"less than or equals value is:\",a<=b)"
   ]
  },
  {
   "cell_type": "markdown",
   "id": "e711e8ec",
   "metadata": {},
   "source": [
    "## Q5) Equality Operator\n",
    "### Take two different integer values.Store them in two different variables.\n",
    "1. Equate them using equality operators (==, !=)\n",
    "2. Observe the output(return type should be boolean)"
   ]
  },
  {
   "cell_type": "code",
   "execution_count": 7,
   "id": "5e2faa45",
   "metadata": {},
   "outputs": [
    {
     "name": "stdout",
     "output_type": "stream",
     "text": [
      "equal to value is: False\n",
      "not equals value is: True\n"
     ]
    }
   ],
   "source": [
    "a=bool(5)\n",
    "b=bool(0)\n",
    "print(\"equal to value is:\",a==b)\n",
    "print(\"not equals value is:\",a!=b)"
   ]
  },
  {
   "cell_type": "markdown",
   "id": "ccdfbd6b",
   "metadata": {},
   "source": [
    "## Q6) Logical operators\n",
    "### Observe the output of below code\n",
    "### Cross check the output manually\n",
    "1. print(True and True)\n",
    "#----------------------------------------->Output is True\n",
    "\n",
    "2. print(False and True)\n",
    "#----------------------------------------->Output is False\n",
    "\n",
    "3. print(True and False)\n",
    "#----------------------------------------->Output is False\n",
    "\n",
    "4. print(False and False)\n",
    "#----------------------------------------->Output is False\n",
    "\n",
    "5. print(True or True)\n",
    "#----------------------------------------->Output is True\n",
    "\n",
    "6. print(False or True)\n",
    "#----------------------------------------->Output is True\n",
    "\n",
    "7. print(True or False)\n",
    "#----------------------------------------->Output is True\n",
    "\n",
    "8. print(False or False)\n",
    "#----------------------------------------->Output is False\n",
    "\n",
    "9. print(not True)\n",
    "#----------------------------------------->Output is False\n",
    "\n",
    "10. print(not False)\n",
    "#----------------------------------------->Output is True"
   ]
  },
  {
   "cell_type": "code",
   "execution_count": 8,
   "id": "96e92e64",
   "metadata": {},
   "outputs": [
    {
     "name": "stdout",
     "output_type": "stream",
     "text": [
      "True\n",
      "False\n",
      "False\n",
      "False\n",
      "True\n",
      "True\n",
      "True\n",
      "False\n",
      "False\n",
      "True\n"
     ]
    }
   ],
   "source": [
    "print(True and True)\n",
    "#----------------------------------------->Output is True\n",
    "\n",
    "\n",
    "print(False and True)\n",
    "#----------------------------------------->Output is False \n",
    "\n",
    "print(True and False)\n",
    "#----------------------------------------->Output is False\n",
    "\n",
    "print(False and False)\n",
    "#----------------------------------------->Output is False\n",
    "\n",
    "print(True or True)\n",
    "#----------------------------------------->Output is True\n",
    "\n",
    "print(False or True)\n",
    "#----------------------------------------->Output is True\n",
    "\n",
    "print(True or False)\n",
    "#----------------------------------------->Output is True\n",
    "\n",
    "print(False or False)\n",
    "#----------------------------------------->Output is False\n",
    "\n",
    "print(not True)\n",
    "#----------------------------------------->Output is False\n",
    "\n",
    "print(not False)\n",
    "#----------------------------------------->Output is True"
   ]
  },
  {
   "cell_type": "markdown",
   "id": "613c6f04",
   "metadata": {},
   "source": [
    "## Q7)Bitwise Operators\n",
    "### Do below operations on the values provided below:-\n",
    "1. Bitwise and(&) --------------> True, True -------> Output is True\n",
    "2. Bitwise or(|) --------------> True, False -------> Output is True\n",
    "3. Bitwise(^) --------------> True, False -------> Output is True\n",
    "4. Bitwise negation(~) ---------> True -------> Output is -2\n",
    "5. Bitwise left shift ---------> True,2 -------> Output is 4\n",
    "6. Bitwise right shift ---------> True,2 -------> Output is 0\n",
    "### Cross check the output manually"
   ]
  },
  {
   "cell_type": "code",
   "execution_count": 10,
   "id": "d2a9ccb3",
   "metadata": {},
   "outputs": [
    {
     "name": "stdout",
     "output_type": "stream",
     "text": [
      "True\n",
      "True\n",
      "True\n",
      "-2\n",
      "4\n",
      "0\n"
     ]
    }
   ],
   "source": [
    "# Bitwise and(&) --------------> \n",
    "print(True&True)\n",
    "# -------> Output is True becuase true=1, So 1&1=1(output)\n",
    "\n",
    "# Bitwise or(|) --------------> \n",
    "print(True| False)\n",
    "# -------> Output is True  becuase true=1 and false=0, So 1|0=1(output)\n",
    "\n",
    "# Bitwise(^) --------------> \n",
    "print(True^ False) \n",
    "# -------> Output is True\n",
    "\n",
    "# Bitwise negation(~) ---------> \n",
    "print(~True) \n",
    "# -------> Output is -2\n",
    "\n",
    "# Bitwise left shift ---------> \n",
    "print(True<<2) \n",
    "# -------> Output is 4\n",
    "\n",
    "# Bitwise right shift ---------> \n",
    "print(True>>2)\n",
    "# -------> Output is 0"
   ]
  },
  {
   "cell_type": "markdown",
   "id": "ec29e1a1",
   "metadata": {},
   "source": [
    "### Q8) What is the output of expression inside the print statement. Cross check before running the program.\n",
    "1. a = True\n",
    "2. b = True\n",
    "3. print(a is b) #True or False? #\n",
    "4. print(a is not b) #True or False?\n",
    "5. a = False\n",
    "6. b = False\n",
    "7. print(a is b) #True or False?\n",
    "8. print(a is not b) #True or False?"
   ]
  },
  {
   "cell_type": "code",
   "execution_count": 12,
   "id": "9c59bb89",
   "metadata": {},
   "outputs": [
    {
     "name": "stdout",
     "output_type": "stream",
     "text": [
      "True\n",
      "False\n",
      "True\n",
      "False\n"
     ]
    }
   ],
   "source": [
    "a = True\n",
    "b = True\n",
    "print(a is b) #True\n",
    "print(a is not b)#False\n",
    "a = False\n",
    "b = False\n",
    "print(a is b) #True\n",
    "print(a is not b)#False"
   ]
  },
  {
   "cell_type": "markdown",
   "id": "c2700476",
   "metadata": {},
   "source": [
    "### Q9)Membership operation\n",
    "### in, not in are two membership operators and it returns boolean value\n",
    "1. print(True in [10,10.20,10+20j,'Python', True])\n",
    "2. print(False in (10,10.20,10+20j,'Python', False))\n",
    "3. print(True in {1,2,3, True})\n",
    "4. print(True in {True:100, False:200, True:300})\n",
    "5. print(False in {True:100, False:200, True:300})"
   ]
  },
  {
   "cell_type": "code",
   "execution_count": 13,
   "id": "f72a1b78",
   "metadata": {},
   "outputs": [
    {
     "name": "stdout",
     "output_type": "stream",
     "text": [
      "True\n",
      "True\n",
      "True\n",
      "True\n",
      "True\n"
     ]
    }
   ],
   "source": [
    "print(True in [10,10.20,10+20j,'Python', True])\n",
    "print(False in (10,10.20,10+20j,'Python', False))\n",
    "print(True in {1,2,3, True})\n",
    "print(True in {True:100, False:200, True:300})\n",
    "print(False in {True:100, False:200, True:300})"
   ]
  }
 ],
 "metadata": {
  "kernelspec": {
   "display_name": "Python 3 (ipykernel)",
   "language": "python",
   "name": "python3"
  },
  "language_info": {
   "codemirror_mode": {
    "name": "ipython",
    "version": 3
   },
   "file_extension": ".py",
   "mimetype": "text/x-python",
   "name": "python",
   "nbconvert_exporter": "python",
   "pygments_lexer": "ipython3",
   "version": "3.11.5"
  }
 },
 "nbformat": 4,
 "nbformat_minor": 5
}
