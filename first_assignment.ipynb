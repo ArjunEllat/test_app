{
 "cells": [
  {
   "cell_type": "code",
   "execution_count": 5,
   "id": "e57de4c0",
   "metadata": {},
   "outputs": [
    {
     "name": "stdout",
     "output_type": "stream",
     "text": [
      "the type of a is: <class 'int'>\n",
      "the id of a is: 140716321313672\n"
     ]
    }
   ],
   "source": [
    "#Q1) Declare an int value and store it in a variable.Check the type and print the id of the same.\n",
    "a=4\n",
    "print(\"the type of a is:\",type(a))\n",
    "print(\"the id of a is:\",id(a))\n",
    "#Outputs are i)the type of a is: <class 'int'>  ii)the id of a is: 140716321313672"
   ]
  },
  {
   "cell_type": "code",
   "execution_count": 6,
   "id": "17a00968",
   "metadata": {},
   "outputs": [
    {
     "name": "stdout",
     "output_type": "stream",
     "text": [
      "140716321314632 140716321314632\n"
     ]
    }
   ],
   "source": [
    "#Q2)Take one int value between 0 - 256.\n",
    "#Assign it to two different variables.\n",
    "#Check the id of both the variables. It should come the same. Check why?\n",
    "a=34\n",
    "b=34\n",
    "print(id(a),id(b))\n",
    "#Outputs are 140716321314632 140716321314632\n",
    "#They are same because they share the same memory address i.e both will be present somewhere in heap memory.\n",
    "#Memory reusability concept is applicable here."
   ]
  },
  {
   "cell_type": "code",
   "execution_count": 8,
   "id": "a485ac8f",
   "metadata": {},
   "outputs": [
    {
     "name": "stdout",
     "output_type": "stream",
     "text": [
      "2999562048176 2999562057072\n"
     ]
    }
   ],
   "source": [
    "#Q3)Take one int value either less than -5 or greater than 256.\n",
    "#Assign it to two different variables.\n",
    "#Check the id of both the variables. It should come different.Check why?\n",
    "a=-6\n",
    "b=-6\n",
    "print(id(a),id(b))\n",
    "#Outputs are 2999562048176 2999562057072\n",
    "#They are coming different because they have different memory address. Because they are not in the range of -5 to 256"
   ]
  },
  {
   "cell_type": "code",
   "execution_count": 9,
   "id": "8d03e29f",
   "metadata": {},
   "outputs": [
    {
     "name": "stdout",
     "output_type": "stream",
     "text": [
      "equal to value is: 15\n",
      "less than value is: 5\n",
      "greater than value is: 50\n",
      "not equals value is: 2.0\n",
      "less than or equals value is: 0\n",
      "greater than or equals value is: 2\n",
      "greater than or equals value is: 100000\n"
     ]
    }
   ],
   "source": [
    "#Q4) Arithmetic Operations on integers\n",
    "#Take two different integer values.Store them in two different variables.\n",
    "#Do below operations on them:-\n",
    "#Find sum of both numbers\n",
    "#Find difference between them\n",
    "#Find the product of both numbers.\n",
    "#Find value after dividing first num with second number\n",
    "#Find the remainder after dividing first number with second number\n",
    "#Find the quotient after dividing first number with second number\n",
    "#Find the result of the first num to the power of the second number.\n",
    "\n",
    "a=10\n",
    "b=5\n",
    "print(\"equal to value is:\",a+b)\n",
    "print(\"less than value is:\",a-b)\n",
    "print(\"greater than value is:\",a*b)\n",
    "print(\"not equals value is:\",a/b)\n",
    "print(\"less than or equals value is:\",a%b)\n",
    "print(\"greater than or equals value is:\",a//b)\n",
    "print(\"greater than or equals value is:\",a**b)"
   ]
  },
  {
   "cell_type": "code",
   "execution_count": null,
   "id": "102d3d9d",
   "metadata": {},
   "outputs": [],
   "source": []
  }
 ],
 "metadata": {
  "kernelspec": {
   "display_name": "Python 3 (ipykernel)",
   "language": "python",
   "name": "python3"
  },
  "language_info": {
   "codemirror_mode": {
    "name": "ipython",
    "version": 3
   },
   "file_extension": ".py",
   "mimetype": "text/x-python",
   "name": "python",
   "nbconvert_exporter": "python",
   "pygments_lexer": "ipython3",
   "version": "3.11.5"
  }
 },
 "nbformat": 4,
 "nbformat_minor": 5
}
