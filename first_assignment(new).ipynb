{
 "cells": [
  {
   "cell_type": "code",
   "execution_count": 5,
   "id": "e57de4c0",
   "metadata": {},
   "outputs": [
    {
     "name": "stdout",
     "output_type": "stream",
     "text": [
      "the type of a is: <class 'int'>\n",
      "the id of a is: 140716321313672\n"
     ]
    }
   ],
   "source": [
    "#Q1) Declare an int value and store it in a variable.Check the type and print the id of the same.\n",
    "a=4\n",
    "print(\"the type of a is:\",type(a))\n",
    "print(\"the id of a is:\",id(a))\n",
    "#Outputs are i)the type of a is: <class 'int'>  ii)the id of a is: 140716321313672"
   ]
  },
  {
   "cell_type": "code",
   "execution_count": 6,
   "id": "17a00968",
   "metadata": {},
   "outputs": [
    {
     "name": "stdout",
     "output_type": "stream",
     "text": [
      "140716321314632 140716321314632\n"
     ]
    }
   ],
   "source": [
    "#Q2) Take one int value between 0 - 256.\n",
    "#Assign it to two different variables.\n",
    "#Check the id of both the variables. It should come the same. Check why?\n",
    "a=34\n",
    "b=34\n",
    "print(id(a),id(b))\n",
    "#Outputs are 140716321314632 140716321314632\n",
    "#They are same because they share the same memory address i.e both will be present somewhere in heap memory.\n",
    "#Memory reusability concept is applicable here."
   ]
  },
  {
   "cell_type": "code",
   "execution_count": 8,
   "id": "a485ac8f",
   "metadata": {},
   "outputs": [
    {
     "name": "stdout",
     "output_type": "stream",
     "text": [
      "2999562048176 2999562057072\n"
     ]
    }
   ],
   "source": [
    "#Q3) Take one int value either less than -5 or greater than 256.\n",
    "#Assign it to two different variables.\n",
    "#Check the id of both the variables. It should come different.Check why?\n",
    "a=-6\n",
    "b=-6\n",
    "print(id(a),id(b))\n",
    "#Outputs are 2999562048176 2999562057072\n",
    "#They are coming different because they have different memory address. Because they are not in the range of -5 to 256"
   ]
  },
  {
   "cell_type": "code",
   "execution_count": 6,
   "id": "8d03e29f",
   "metadata": {},
   "outputs": [
    {
     "name": "stdout",
     "output_type": "stream",
     "text": [
      "Sum of both numbers is: 15\n",
      "Difference between them is: 5\n",
      "Product of both numbers is: 50\n",
      "Value after dividing first number with second number is: 2.0\n",
      "Remainder after dividing first number with second is: 0\n",
      "Quotient after dividing first number with second is: 2\n",
      "Result of the first num to the power of the second number: 100000\n"
     ]
    }
   ],
   "source": [
    "#Q4) Arithmetic Operations on integers\n",
    "#Take two different integer values.Store them in two different variables.\n",
    "#Do below operations on them:-\n",
    "#Find sum of both numbers\n",
    "#Find difference between them\n",
    "#Find the product of both numbers.\n",
    "#Find value after dividing first num with second number\n",
    "#Find the remainder after dividing first number with second number\n",
    "#Find the quotient after dividing first number with second number\n",
    "#Find the result of the first num to the power of the second number.\n",
    "\n",
    "a=10\n",
    "b=5\n",
    "print(\"Sum of both numbers is:\",a+b)\n",
    "print(\"Difference between them is:\",a-b)\n",
    "print(\"Product of both numbers is:\",a*b)\n",
    "print(\"Value after dividing first number with second number is:\",a/b)\n",
    "print(\"Remainder after dividing first number with second is:\",a%b)\n",
    "print(\"Quotient after dividing first number with second is:\",a//b)\n",
    "print(\"Result of the first num to the power of the second number:\",a**b)"
   ]
  },
  {
   "cell_type": "code",
   "execution_count": 7,
   "id": "39fc8b6f",
   "metadata": {},
   "outputs": [
    {
     "name": "stdout",
     "output_type": "stream",
     "text": [
      "less than value is: True\n",
      "greater than value is: False\n",
      "less than or equals value is: True\n",
      "greater than or equals value is: False\n"
     ]
    }
   ],
   "source": [
    "# Q5) Comparison Operators on integers\n",
    "# Take two different integer values.Store them in two different variables.\n",
    "# Do below operations on them:-\n",
    "# Compare se two numbers with below operator:-\n",
    "# Greater than, '>'\n",
    "# Smaller than, '<'\n",
    "# Greater than or equal to, '>='\n",
    "# Less than or equal to, '<='\n",
    "# Observe their output(return type should be boolean)\n",
    "a=3\n",
    "b=4\n",
    "print(\"less than value is:\",a<b)\n",
    "print(\"greater than value is:\",a>b)\n",
    "print(\"less than or equals value is:\",a<=b)\n",
    "print(\"greater than or equals value is:\",a>=b)"
   ]
  },
  {
   "cell_type": "code",
   "execution_count": 8,
   "id": "8e79ce0e",
   "metadata": {},
   "outputs": [
    {
     "name": "stdout",
     "output_type": "stream",
     "text": [
      "equal to value is: False\n",
      "not equals value is: True\n"
     ]
    }
   ],
   "source": [
    "# Q6) Equality Operator\n",
    "# Take two different integer values.\n",
    "# Store them in two different variables.\n",
    "# Equate them using equality operators (==, !=)\n",
    "# Observe the output(return type should be boolean)\n",
    "a=5\n",
    "b=4\n",
    "print(\"equal to value is:\",a==b)\n",
    "print(\"not equals value is:\",a!=b)"
   ]
  },
  {
   "cell_type": "code",
   "execution_count": 9,
   "id": "73d36592",
   "metadata": {},
   "outputs": [
    {
     "name": "stdout",
     "output_type": "stream",
     "text": [
      "20\n",
      "0\n",
      "0\n",
      "0\n",
      "10\n",
      "20\n",
      "20\n",
      "0\n",
      "False\n",
      "True\n"
     ]
    }
   ],
   "source": [
    "# Q7) Logical operators\n",
    "# Observe the output of below code\n",
    "\n",
    "# Cross check the output manually\n",
    "\n",
    "print(10 and 20)\n",
    "#----------------------------------------->Output is 20\n",
    "\n",
    "print(0 and 20)\n",
    "#----------------------------------------->Output is 0\n",
    "\n",
    "print(20 and 0)\n",
    "#----------------------------------------->Output is 0\n",
    "\n",
    "print(0 and 0)\n",
    "#----------------------------------------->Output is 0\n",
    "\n",
    "print(10 or 20)\n",
    "#----------------------------------------->Output is 10\n",
    "\n",
    "print(0 or 20)\n",
    "#----------------------------------------->Output is 20\n",
    "\n",
    "print(20 or 0)\n",
    "#----------------------------------------->Output is 20\n",
    "\n",
    "print(0 or 0)\n",
    "#----------------------------------------->Output is 0\n",
    "\n",
    "print(not 10)\n",
    "#----------------------------------------->Output is False\n",
    "\n",
    "print(not 0)\n",
    "#----------------------------------------->Output is True"
   ]
  },
  {
   "cell_type": "code",
   "execution_count": 14,
   "id": "657f2071",
   "metadata": {},
   "outputs": [
    {
     "name": "stdout",
     "output_type": "stream",
     "text": [
      "0\n",
      "30\n",
      "30\n",
      "-11\n",
      "40\n",
      "2\n"
     ]
    }
   ],
   "source": [
    "# Q8) Bitwise Operators\n",
    "# Do below operations on the values provided below:-\n",
    "\n",
    "# Bitwise and(&) -----------------------------------------> \n",
    "print(10&20)\n",
    "#-------> Output is 0\n",
    "\n",
    "# Bitwise or(|) -----------------------------------------> \n",
    "print(10|20)\n",
    "# -------> Output is 30\n",
    "\n",
    "# Bitwise(^) -----------------------------------------> \n",
    "print(10^20)\n",
    "# -------> Output is 30\n",
    "\n",
    "# Bitwise negation(~) ------------------------------------> \n",
    "print(~10)\n",
    "# -------> Output is -11\n",
    "\n",
    "# Bitwise left shift ------------------------------------>\n",
    "print(10<<2)\n",
    "# -------> Output is 40\n",
    "\n",
    "# Bitwise right shift ------------------------------------> \n",
    "print(10>>2)\n",
    "# -------> Output is 2\n",
    "\n",
    "# Cross check the output manually"
   ]
  },
  {
   "cell_type": "code",
   "execution_count": 15,
   "id": "730413b3",
   "metadata": {},
   "outputs": [
    {
     "name": "stdout",
     "output_type": "stream",
     "text": [
      "True\n",
      "False\n",
      "False\n",
      "True\n"
     ]
    }
   ],
   "source": [
    "# Q9) What is the output of expression inside print statement. Cross check before running the program.\n",
    "\n",
    "a = 10\n",
    "b = 10\n",
    "print(a is b) #True or False?--True\n",
    "print(a is not b) #True or False?--False\n",
    "a = 1000\n",
    "b = 1000\n",
    "print(a is b) #True or False?---False\n",
    "print(a is not b) #True or False?---True"
   ]
  },
  {
   "cell_type": "code",
   "execution_count": 16,
   "id": "7d93743d",
   "metadata": {},
   "outputs": [
    {
     "name": "stdout",
     "output_type": "stream",
     "text": [
      "20\n"
     ]
    }
   ],
   "source": [
    "# Q10) What is the output of expression inside print statement. Cross check before running the program.\n",
    "print(10+(10*32)//2**5&20+(~(-10))<<2)\n",
    "#Output---20"
   ]
  },
  {
   "cell_type": "code",
   "execution_count": null,
   "id": "e55576ba",
   "metadata": {},
   "outputs": [],
   "source": []
  }
 ],
 "metadata": {
  "kernelspec": {
   "display_name": "Python 3 (ipykernel)",
   "language": "python",
   "name": "python3"
  },
  "language_info": {
   "codemirror_mode": {
    "name": "ipython",
    "version": 3
   },
   "file_extension": ".py",
   "mimetype": "text/x-python",
   "name": "python",
   "nbconvert_exporter": "python",
   "pygments_lexer": "ipython3",
   "version": "3.11.5"
  }
 },
 "nbformat": 4,
 "nbformat_minor": 5
}
